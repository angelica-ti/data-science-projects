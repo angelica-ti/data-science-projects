{
 "cells": [
  {
   "cell_type": "markdown",
   "id": "ebc886eb",
   "metadata": {},
   "source": [
    "### ANÁLISE DO CONSUMO DE ÁLCOOL NO MUNDO\n",
    "\n",
    "O consumo excessivo de álcool é um problema grave de saúde pública, você não acha? Imagine que você é um cientista de dados trabalhando em uma equipe da Organização Mundial da Saúde (OMS), cujo objetivo é desenvolver relatórios sobre o consumo de álcool no mundo. Tudo certo até aqui? Então, vamos continuar!\n",
    "\n",
    "Foram coletados dados de diferentes países, indicando o consumo de cerveja (beer), licor (spirit) e vinho (wine), e o consumo de litros de álcool por pessoa do país no ano de 2010. Seu trabalho, então, é responder a algumas perguntas sobre os dados que irão ajudar a compor o relatório. Vamos lá?\n",
    "\n",
    "1. Qual a média e desvio padrão do consumo de cerveja, licor, vinho e total de álcool?\n",
    "2. Qual o consumo de licor na França?\n",
    "3. Quais os 5 países nos quais se consome mais vinho?\n",
    "4. Quais os países nos quais o consumo de cerveja está acima da média?\n",
    "5. Quais países nos quais o consumo total de álcool está acima do Brasil, em ordem do menor para o maior?"
   ]
  },
  {
   "cell_type": "markdown",
   "id": "1d5f0f78",
   "metadata": {},
   "source": [
    "#### Carregando os Dados"
   ]
  },
  {
   "cell_type": "code",
   "execution_count": 1,
   "id": "9d34f032",
   "metadata": {},
   "outputs": [],
   "source": [
    "import pandas as pd"
   ]
  },
  {
   "cell_type": "code",
   "execution_count": 2,
   "id": "e6e95a98",
   "metadata": {},
   "outputs": [],
   "source": [
    "df = pd.read_table('drinks.txt', sep=',')"
   ]
  },
  {
   "cell_type": "code",
   "execution_count": 3,
   "id": "96a0286f",
   "metadata": {},
   "outputs": [
    {
     "data": {
      "text/html": [
       "<div>\n",
       "<style scoped>\n",
       "    .dataframe tbody tr th:only-of-type {\n",
       "        vertical-align: middle;\n",
       "    }\n",
       "\n",
       "    .dataframe tbody tr th {\n",
       "        vertical-align: top;\n",
       "    }\n",
       "\n",
       "    .dataframe thead th {\n",
       "        text-align: right;\n",
       "    }\n",
       "</style>\n",
       "<table border=\"1\" class=\"dataframe\">\n",
       "  <thead>\n",
       "    <tr style=\"text-align: right;\">\n",
       "      <th></th>\n",
       "      <th>country</th>\n",
       "      <th>beer_servings</th>\n",
       "      <th>spirit_servings</th>\n",
       "      <th>wine_servings</th>\n",
       "      <th>total_litres_of_pure_alcohol</th>\n",
       "    </tr>\n",
       "  </thead>\n",
       "  <tbody>\n",
       "    <tr>\n",
       "      <th>0</th>\n",
       "      <td>Afghanistan</td>\n",
       "      <td>0</td>\n",
       "      <td>0</td>\n",
       "      <td>0</td>\n",
       "      <td>0.0</td>\n",
       "    </tr>\n",
       "    <tr>\n",
       "      <th>1</th>\n",
       "      <td>Albania</td>\n",
       "      <td>89</td>\n",
       "      <td>132</td>\n",
       "      <td>54</td>\n",
       "      <td>4.9</td>\n",
       "    </tr>\n",
       "    <tr>\n",
       "      <th>2</th>\n",
       "      <td>Algeria</td>\n",
       "      <td>25</td>\n",
       "      <td>0</td>\n",
       "      <td>14</td>\n",
       "      <td>0.7</td>\n",
       "    </tr>\n",
       "    <tr>\n",
       "      <th>3</th>\n",
       "      <td>Andorra</td>\n",
       "      <td>245</td>\n",
       "      <td>138</td>\n",
       "      <td>312</td>\n",
       "      <td>12.4</td>\n",
       "    </tr>\n",
       "    <tr>\n",
       "      <th>4</th>\n",
       "      <td>Angola</td>\n",
       "      <td>217</td>\n",
       "      <td>57</td>\n",
       "      <td>45</td>\n",
       "      <td>5.9</td>\n",
       "    </tr>\n",
       "  </tbody>\n",
       "</table>\n",
       "</div>"
      ],
      "text/plain": [
       "       country  beer_servings  spirit_servings  wine_servings  \\\n",
       "0  Afghanistan              0                0              0   \n",
       "1      Albania             89              132             54   \n",
       "2      Algeria             25                0             14   \n",
       "3      Andorra            245              138            312   \n",
       "4       Angola            217               57             45   \n",
       "\n",
       "   total_litres_of_pure_alcohol  \n",
       "0                           0.0  \n",
       "1                           4.9  \n",
       "2                           0.7  \n",
       "3                          12.4  \n",
       "4                           5.9  "
      ]
     },
     "execution_count": 3,
     "metadata": {},
     "output_type": "execute_result"
    }
   ],
   "source": [
    "df.head()"
   ]
  },
  {
   "cell_type": "markdown",
   "id": "3349b0c2",
   "metadata": {},
   "source": [
    "<font color=blue>**1. Qual a média e desvio padrão do consumo de cerveja, licor, vinho e total de álcool?**</font>"
   ]
  },
  {
   "cell_type": "markdown",
   "id": "91e18e01",
   "metadata": {},
   "source": [
    "**R:** Para responder a este questionamento, utilizando o método describe obtem-se todas as estatíticas descritivas da base de dados em questão. Pode-se então utilizar o .loc para obter apenas as linhas referente a média e ao desvio padrão dos dados."
   ]
  },
  {
   "cell_type": "code",
   "execution_count": 4,
   "id": "fd04d80a",
   "metadata": {},
   "outputs": [
    {
     "data": {
      "text/html": [
       "<div>\n",
       "<style scoped>\n",
       "    .dataframe tbody tr th:only-of-type {\n",
       "        vertical-align: middle;\n",
       "    }\n",
       "\n",
       "    .dataframe tbody tr th {\n",
       "        vertical-align: top;\n",
       "    }\n",
       "\n",
       "    .dataframe thead th {\n",
       "        text-align: right;\n",
       "    }\n",
       "</style>\n",
       "<table border=\"1\" class=\"dataframe\">\n",
       "  <thead>\n",
       "    <tr style=\"text-align: right;\">\n",
       "      <th></th>\n",
       "      <th>beer_servings</th>\n",
       "      <th>spirit_servings</th>\n",
       "      <th>wine_servings</th>\n",
       "      <th>total_litres_of_pure_alcohol</th>\n",
       "    </tr>\n",
       "  </thead>\n",
       "  <tbody>\n",
       "    <tr>\n",
       "      <th>mean</th>\n",
       "      <td>106.160622</td>\n",
       "      <td>80.994819</td>\n",
       "      <td>49.450777</td>\n",
       "      <td>4.717098</td>\n",
       "    </tr>\n",
       "    <tr>\n",
       "      <th>std</th>\n",
       "      <td>101.143103</td>\n",
       "      <td>88.284312</td>\n",
       "      <td>79.697598</td>\n",
       "      <td>3.773298</td>\n",
       "    </tr>\n",
       "  </tbody>\n",
       "</table>\n",
       "</div>"
      ],
      "text/plain": [
       "      beer_servings  spirit_servings  wine_servings  \\\n",
       "mean     106.160622        80.994819      49.450777   \n",
       "std      101.143103        88.284312      79.697598   \n",
       "\n",
       "      total_litres_of_pure_alcohol  \n",
       "mean                      4.717098  \n",
       "std                       3.773298  "
      ]
     },
     "execution_count": 4,
     "metadata": {},
     "output_type": "execute_result"
    }
   ],
   "source": [
    "df.describe().loc[['mean', 'std']]"
   ]
  },
  {
   "cell_type": "markdown",
   "id": "e6eaf836",
   "metadata": {},
   "source": [
    "<font color=blue> **2. Qual o consumo de licor na França?**</font>"
   ]
  },
  {
   "cell_type": "markdown",
   "id": "84bf8503",
   "metadata": {},
   "source": [
    "**R:** Há várias maneiras de obter a resposta para essa pergunta. As 3 células a seguir apresentam 3 maneiras distintas de obter o mesmo resultado."
   ]
  },
  {
   "cell_type": "code",
   "execution_count": 5,
   "id": "e12e4bea",
   "metadata": {},
   "outputs": [
    {
     "data": {
      "text/plain": [
       "61    151\n",
       "Name: spirit_servings, dtype: int64"
      ]
     },
     "execution_count": 5,
     "metadata": {},
     "output_type": "execute_result"
    }
   ],
   "source": [
    "df.loc[df['country'] == 'France', 'spirit_servings']"
   ]
  },
  {
   "cell_type": "code",
   "execution_count": 6,
   "id": "329cc5e6",
   "metadata": {},
   "outputs": [
    {
     "data": {
      "text/plain": [
       "61    151\n",
       "Name: spirit_servings, dtype: int64"
      ]
     },
     "execution_count": 6,
     "metadata": {},
     "output_type": "execute_result"
    }
   ],
   "source": [
    "df[df['country'] == 'France']['spirit_servings']"
   ]
  },
  {
   "cell_type": "code",
   "execution_count": 7,
   "id": "18bc8af9",
   "metadata": {},
   "outputs": [
    {
     "data": {
      "text/plain": [
       "61    151\n",
       "Name: spirit_servings, dtype: int64"
      ]
     },
     "execution_count": 7,
     "metadata": {},
     "output_type": "execute_result"
    }
   ],
   "source": [
    "df['spirit_servings'][df['country'] == 'France']"
   ]
  },
  {
   "cell_type": "markdown",
   "id": "559a09df",
   "metadata": {},
   "source": [
    "<font color=blue>**3. Quais os 5 países nos quais se consome mais vinho?** </font>"
   ]
  },
  {
   "cell_type": "markdown",
   "id": "4f0d0c16",
   "metadata": {},
   "source": [
    "**R:** O método *sort_values* ordena os dados considerando alguma coluna como referência (utilizando o atributo *by*) em ordem crescente de valor. Para alterar para ordem descrescente, é necessário modificar o atributo *ascending* que por *default* é False para True. As 3 células a seguir apresentam maneiras distintas de responder o mesmo questionamento."
   ]
  },
  {
   "cell_type": "code",
   "execution_count": 8,
   "id": "430470bd",
   "metadata": {},
   "outputs": [
    {
     "data": {
      "text/plain": [
       "61          France\n",
       "136       Portugal\n",
       "3          Andorra\n",
       "166    Switzerland\n",
       "48         Denmark\n",
       "Name: country, dtype: object"
      ]
     },
     "execution_count": 8,
     "metadata": {},
     "output_type": "execute_result"
    }
   ],
   "source": [
    "df.sort_values(by='wine_servings', ascending=False).head(5)['country']"
   ]
  },
  {
   "cell_type": "code",
   "execution_count": 9,
   "id": "510aea2c",
   "metadata": {},
   "outputs": [
    {
     "data": {
      "text/plain": [
       "61          France\n",
       "136       Portugal\n",
       "3          Andorra\n",
       "166    Switzerland\n",
       "48         Denmark\n",
       "Name: country, dtype: object"
      ]
     },
     "execution_count": 9,
     "metadata": {},
     "output_type": "execute_result"
    }
   ],
   "source": [
    "df.sort_values(by='wine_servings', ascending=False)['country'].head(5)"
   ]
  },
  {
   "cell_type": "code",
   "execution_count": 10,
   "id": "d6d3b856",
   "metadata": {},
   "outputs": [
    {
     "data": {
      "text/plain": [
       "61          France\n",
       "136       Portugal\n",
       "3          Andorra\n",
       "166    Switzerland\n",
       "48         Denmark\n",
       "Name: country, dtype: object"
      ]
     },
     "execution_count": 10,
     "metadata": {},
     "output_type": "execute_result"
    }
   ],
   "source": [
    "df.sort_values(by='wine_servings', ascending=False).country.head()"
   ]
  },
  {
   "cell_type": "markdown",
   "id": "71f4041f",
   "metadata": {},
   "source": [
    "<font color=blue>**4. Quais os países nos quais o consumo de cerveja está acima da média?**</font>"
   ]
  },
  {
   "cell_type": "markdown",
   "id": "eded6a89",
   "metadata": {},
   "source": [
    "**R:** Para responder a esse questionamento, é realizado um filtro que inicialmente filtra todos os dados cujo valor do consumo de cerveja é maior que a média e posteriormente, apenas os nomes dos registros são retornados. As duas células a seguir apresentam 2 maneiras equivalentes de obter o mesmo resultado."
   ]
  },
  {
   "cell_type": "code",
   "execution_count": 11,
   "id": "0b46f5ea",
   "metadata": {},
   "outputs": [
    {
     "data": {
      "text/plain": [
       "3                           Andorra\n",
       "4                            Angola\n",
       "6                         Argentina\n",
       "8                         Australia\n",
       "9                           Austria\n",
       "11                          Bahamas\n",
       "14                         Barbados\n",
       "15                          Belarus\n",
       "16                          Belgium\n",
       "17                           Belize\n",
       "20                          Bolivia\n",
       "22                         Botswana\n",
       "23                           Brazil\n",
       "25                         Bulgaria\n",
       "29                       Cabo Verde\n",
       "31                         Cameroon\n",
       "32                           Canada\n",
       "35                            Chile\n",
       "37                         Colombia\n",
       "41                       Costa Rica\n",
       "42                          Croatia\n",
       "44                           Cyprus\n",
       "45                   Czech Republic\n",
       "48                          Denmark\n",
       "51               Dominican Republic\n",
       "52                          Ecuador\n",
       "57                          Estonia\n",
       "60                          Finland\n",
       "61                           France\n",
       "62                            Gabon\n",
       "65                          Germany\n",
       "67                           Greece\n",
       "68                          Grenada\n",
       "75                          Hungary\n",
       "76                          Iceland\n",
       "81                          Ireland\n",
       "87                       Kazakhstan\n",
       "93                           Latvia\n",
       "98                        Lithuania\n",
       "99                       Luxembourg\n",
       "105                           Malta\n",
       "109                          Mexico\n",
       "117                         Namibia\n",
       "120                     Netherlands\n",
       "121                     New Zealand\n",
       "125                            Niue\n",
       "126                          Norway\n",
       "129                           Palau\n",
       "130                          Panama\n",
       "132                        Paraguay\n",
       "133                            Peru\n",
       "135                          Poland\n",
       "136                        Portugal\n",
       "138                     South Korea\n",
       "139                         Moldova\n",
       "140                         Romania\n",
       "141              Russian Federation\n",
       "143               St. Kitts & Nevis\n",
       "144                       St. Lucia\n",
       "145    St. Vincent & the Grenadines\n",
       "151                          Serbia\n",
       "152                      Seychelles\n",
       "155                        Slovakia\n",
       "156                        Slovenia\n",
       "159                    South Africa\n",
       "160                           Spain\n",
       "163                        Suriname\n",
       "165                          Sweden\n",
       "166                     Switzerland\n",
       "174               Trinidad & Tobago\n",
       "180                         Ukraine\n",
       "182                  United Kingdom\n",
       "184                             USA\n",
       "185                         Uruguay\n",
       "188                       Venezuela\n",
       "189                         Vietnam\n",
       "Name: country, dtype: object"
      ]
     },
     "execution_count": 11,
     "metadata": {},
     "output_type": "execute_result"
    }
   ],
   "source": [
    "pd.options.display.max_rows = None #Comando para apresentar todas as linhas da filtragem, sem limite de linhas\n",
    "df[df.beer_servings > df.beer_servings.mean()].country"
   ]
  },
  {
   "cell_type": "code",
   "execution_count": 12,
   "id": "35b9564c",
   "metadata": {},
   "outputs": [
    {
     "data": {
      "text/plain": [
       "3                           Andorra\n",
       "4                            Angola\n",
       "6                         Argentina\n",
       "8                         Australia\n",
       "9                           Austria\n",
       "11                          Bahamas\n",
       "14                         Barbados\n",
       "15                          Belarus\n",
       "16                          Belgium\n",
       "17                           Belize\n",
       "20                          Bolivia\n",
       "22                         Botswana\n",
       "23                           Brazil\n",
       "25                         Bulgaria\n",
       "29                       Cabo Verde\n",
       "31                         Cameroon\n",
       "32                           Canada\n",
       "35                            Chile\n",
       "37                         Colombia\n",
       "41                       Costa Rica\n",
       "42                          Croatia\n",
       "44                           Cyprus\n",
       "45                   Czech Republic\n",
       "48                          Denmark\n",
       "51               Dominican Republic\n",
       "52                          Ecuador\n",
       "57                          Estonia\n",
       "60                          Finland\n",
       "61                           France\n",
       "62                            Gabon\n",
       "65                          Germany\n",
       "67                           Greece\n",
       "68                          Grenada\n",
       "75                          Hungary\n",
       "76                          Iceland\n",
       "81                          Ireland\n",
       "87                       Kazakhstan\n",
       "93                           Latvia\n",
       "98                        Lithuania\n",
       "99                       Luxembourg\n",
       "105                           Malta\n",
       "109                          Mexico\n",
       "117                         Namibia\n",
       "120                     Netherlands\n",
       "121                     New Zealand\n",
       "125                            Niue\n",
       "126                          Norway\n",
       "129                           Palau\n",
       "130                          Panama\n",
       "132                        Paraguay\n",
       "133                            Peru\n",
       "135                          Poland\n",
       "136                        Portugal\n",
       "138                     South Korea\n",
       "139                         Moldova\n",
       "140                         Romania\n",
       "141              Russian Federation\n",
       "143               St. Kitts & Nevis\n",
       "144                       St. Lucia\n",
       "145    St. Vincent & the Grenadines\n",
       "151                          Serbia\n",
       "152                      Seychelles\n",
       "155                        Slovakia\n",
       "156                        Slovenia\n",
       "159                    South Africa\n",
       "160                           Spain\n",
       "163                        Suriname\n",
       "165                          Sweden\n",
       "166                     Switzerland\n",
       "174               Trinidad & Tobago\n",
       "180                         Ukraine\n",
       "182                  United Kingdom\n",
       "184                             USA\n",
       "185                         Uruguay\n",
       "188                       Venezuela\n",
       "189                         Vietnam\n",
       "Name: country, dtype: object"
      ]
     },
     "execution_count": 12,
     "metadata": {},
     "output_type": "execute_result"
    }
   ],
   "source": [
    "df.loc[df['beer_servings'] > df['beer_servings'].mean(), 'country']"
   ]
  },
  {
   "cell_type": "markdown",
   "id": "8ffcea8b",
   "metadata": {},
   "source": [
    "<font color=blue>**5. Quais países nos quais o consumo total de álcool está acima do Brasil, em ordem do menor para o maior?**</font>"
   ]
  },
  {
   "cell_type": "markdown",
   "id": "17bee446",
   "metadata": {},
   "source": [
    "**R:** Para responder este questionamento, a resposta será dividida para tornar mais compreensível todo o processo. Primeiramente, será identificado o total de litros de álcool consumido apenas pelo Brasil, em seguida serão filtrados apenas os países cujo consumo seja maior que esse valor. Observe que o resultado da primeira célula é uma série com apenas um valor, para obter apenas o valor inteiro dessa série, utilize o *.values[0]*."
   ]
  },
  {
   "cell_type": "code",
   "execution_count": 13,
   "id": "1373675a",
   "metadata": {},
   "outputs": [],
   "source": [
    "total_litres_brazil = df.loc[df['country'] == 'Brazil', 'total_litres_of_pure_alcohol']"
   ]
  },
  {
   "cell_type": "code",
   "execution_count": 14,
   "id": "f31173a1",
   "metadata": {},
   "outputs": [
    {
     "data": {
      "text/plain": [
       "3                 Andorra\n",
       "6               Argentina\n",
       "8               Australia\n",
       "9                 Austria\n",
       "15                Belarus\n",
       "16                Belgium\n",
       "25               Bulgaria\n",
       "32                 Canada\n",
       "35                  Chile\n",
       "42                Croatia\n",
       "44                 Cyprus\n",
       "45         Czech Republic\n",
       "48                Denmark\n",
       "57                Estonia\n",
       "60                Finland\n",
       "61                 France\n",
       "62                  Gabon\n",
       "65                Germany\n",
       "67                 Greece\n",
       "68                Grenada\n",
       "75                Hungary\n",
       "81                Ireland\n",
       "93                 Latvia\n",
       "98              Lithuania\n",
       "99             Luxembourg\n",
       "120           Netherlands\n",
       "121           New Zealand\n",
       "124               Nigeria\n",
       "132              Paraguay\n",
       "135                Poland\n",
       "136              Portugal\n",
       "138           South Korea\n",
       "140               Romania\n",
       "141    Russian Federation\n",
       "143     St. Kitts & Nevis\n",
       "144             St. Lucia\n",
       "151                Serbia\n",
       "155              Slovakia\n",
       "156              Slovenia\n",
       "159          South Africa\n",
       "160                 Spain\n",
       "166           Switzerland\n",
       "179                Uganda\n",
       "180               Ukraine\n",
       "182        United Kingdom\n",
       "184                   USA\n",
       "188             Venezuela\n",
       "Name: country, dtype: object"
      ]
     },
     "execution_count": 14,
     "metadata": {},
     "output_type": "execute_result"
    }
   ],
   "source": [
    "df[df['total_litres_of_pure_alcohol']>total_litres_brazil.values[0]].country"
   ]
  }
 ],
 "metadata": {
  "kernelspec": {
   "display_name": "Python 3 (ipykernel)",
   "language": "python",
   "name": "python3"
  },
  "language_info": {
   "codemirror_mode": {
    "name": "ipython",
    "version": 3
   },
   "file_extension": ".py",
   "mimetype": "text/x-python",
   "name": "python",
   "nbconvert_exporter": "python",
   "pygments_lexer": "ipython3",
   "version": "3.11.5"
  }
 },
 "nbformat": 4,
 "nbformat_minor": 5
}
